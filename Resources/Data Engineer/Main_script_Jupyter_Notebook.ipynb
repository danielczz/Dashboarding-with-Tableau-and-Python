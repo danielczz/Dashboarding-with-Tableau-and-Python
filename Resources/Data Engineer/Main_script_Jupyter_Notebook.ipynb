{
 "cells": [
  {
   "cell_type": "markdown",
   "metadata": {},
   "source": [
    "## Import Dependencies"
   ]
  },
  {
   "cell_type": "code",
   "execution_count": 1,
   "metadata": {},
   "outputs": [],
   "source": [
    "# Import dependencies\n",
    "%matplotlib notebook\n",
    "# Dependencies declaration\n",
    "\n",
    "import pandas as pd\n",
    "from pandas.io import sql\n",
    "from pandas import DataFrame\n",
    "\n",
    "import os"
   ]
  },
  {
   "cell_type": "markdown",
   "metadata": {},
   "source": [
    "## Getting Filenames to load Data"
   ]
  },
  {
   "cell_type": "code",
   "execution_count": 2,
   "metadata": {
    "scrolled": false
   },
   "outputs": [
    {
     "name": "stdout",
     "output_type": "stream",
     "text": [
      "###### LOADING FILENAMES FOR MANIPULATION...\n",
      "['201801-citibike-tripdata.csv', '.DS_Store', '201803-citibike-tripdata.csv', '201805-citibike-tripdata.csv', '201802-citibike-tripdata.csv', '201804-citibike-tripdata.csv', '201806-citibike-tripdata.csv']\n",
      "###### FILENAMES LOADING IS 100%COMPLETE!\n"
     ]
    }
   ],
   "source": [
    "print(f'###### LOADING FILENAMES FOR MANIPULATION...')\n",
    "\n",
    "pwd = os.getcwd()\n",
    "\n",
    "pwd = pwd + '/../DataBases/'\n",
    "# print(pwd)\n",
    "\n",
    "for path, folders, files in os.walk(pwd):\n",
    "   ## just rename folders inside path \n",
    "    if pwd == path:\n",
    "        print(files)\n",
    "        files_names = files\n",
    "    \n",
    "if '.DS_Store' in files:\n",
    "    files.remove('.DS_Store')\n",
    "\n",
    "print(f'###### FILENAMES LOADING IS 100%COMPLETE!')"
   ]
  },
  {
   "cell_type": "markdown",
   "metadata": {},
   "source": [
    "## Loading Data into DataFrames for Manipulation"
   ]
  },
  {
   "cell_type": "code",
   "execution_count": 3,
   "metadata": {
    "scrolled": true
   },
   "outputs": [
    {
     "name": "stdout",
     "output_type": "stream",
     "text": [
      "###### LOADING DATA FOR MANIPULATION...\n",
      "The initial lenght for the list of DataFrames is:  0\n",
      "Processing data file:  201801-citibike-tripdata.csv\n",
      "Processing data file:  .DS_Store\n",
      "Processing data file:  201803-citibike-tripdata.csv\n",
      "Processing data file:  201805-citibike-tripdata.csv\n",
      "Processing data file:  201802-citibike-tripdata.csv\n",
      "Processing data file:  201804-citibike-tripdata.csv\n",
      "Processing data file:  201806-citibike-tripdata.csv\n",
      "The final lenght for the list of DataFrames is:  7\n",
      "###### ...DATA LOADING COMPLETE!\n"
     ]
    }
   ],
   "source": [
    "print(f'###### LOADING DATA FOR MANIPULATION...')\n",
    "\n",
    "# Create the list for the three DataFrames you want to create:\n",
    "dataframes = []\n",
    "\n",
    "print(\"The initial lenght for the list of DataFrames is: \", len(dataframes))\n",
    "\n",
    "for x in files_names:\n",
    "    dataframes.append(pd.read_csv(pwd + x))\n",
    "    print(\"Processing data file: \", x)\n",
    "    \n",
    "print(\"The final lenght for the list of DataFrames is: \", len(dataframes))\n",
    "print(f'###### ...DATA LOADING COMPLETE!')"
   ]
  },
  {
   "cell_type": "markdown",
   "metadata": {},
   "source": [
    "## Concatening all DataFrames in a single Pandas DataFrame"
   ]
  },
  {
   "cell_type": "code",
   "execution_count": 7,
   "metadata": {},
   "outputs": [
    {
     "name": "stdout",
     "output_type": "stream",
     "text": [
      "7624136\n"
     ]
    }
   ],
   "source": [
    "df = pd.concat([\n",
    "    dataframes[0], dataframes[1], dataframes[2], dataframes[3], dataframes[4], dataframes[5], \n",
    "    dataframes[6]])\n",
    "print(len(df))"
   ]
  },
  {
   "cell_type": "markdown",
   "metadata": {},
   "source": [
    "## Exporting Clean Data to a CSV file"
   ]
  },
  {
   "cell_type": "code",
   "execution_count": 8,
   "metadata": {},
   "outputs": [
    {
     "name": "stdout",
     "output_type": "stream",
     "text": [
      "###### ...DATA TO CSV FILE COMPLETE!\n"
     ]
    }
   ],
   "source": [
    "export_csv = df.to_csv (r'../DataBases/Clean DataBase/CitiBikes_CleanData_2018.csv', index = None, header=True) \n",
    "print(f'###### ...DATA TO CSV FILE COMPLETE!')"
   ]
  }
 ],
 "metadata": {
  "kernelspec": {
   "display_name": "Python 3",
   "language": "python",
   "name": "python3"
  },
  "language_info": {
   "codemirror_mode": {
    "name": "ipython",
    "version": 3
   },
   "file_extension": ".py",
   "mimetype": "text/x-python",
   "name": "python",
   "nbconvert_exporter": "python",
   "pygments_lexer": "ipython3",
   "version": "3.6.8"
  },
  "toc": {
   "base_numbering": 1,
   "nav_menu": {},
   "number_sections": true,
   "sideBar": true,
   "skip_h1_title": false,
   "title_cell": "Table of Contents",
   "title_sidebar": "Contents",
   "toc_cell": false,
   "toc_position": {},
   "toc_section_display": true,
   "toc_window_display": false
  }
 },
 "nbformat": 4,
 "nbformat_minor": 2
}
